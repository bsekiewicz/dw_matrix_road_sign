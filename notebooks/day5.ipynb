{
  "nbformat": 4,
  "nbformat_minor": 0,
  "metadata": {
    "colab": {
      "name": "day5.ipynb",
      "provenance": [],
      "collapsed_sections": [],
      "mount_file_id": "1tBULFbDGveIlmRsgIju_aZevM-Yd60pd",
      "authorship_tag": "ABX9TyPhumhAW/ILhrz+F58hoz4A",
      "include_colab_link": true
    },
    "kernelspec": {
      "name": "python3",
      "display_name": "Python 3"
    },
    "accelerator": "GPU"
  },
  "cells": [
    {
      "cell_type": "markdown",
      "metadata": {
        "id": "view-in-github",
        "colab_type": "text"
      },
      "source": [
        "<a href=\"https://colab.research.google.com/github/bsekiewicz/dw_matrix_road_sign/blob/master/notebooks/day5.ipynb\" target=\"_parent\"><img src=\"https://colab.research.google.com/assets/colab-badge.svg\" alt=\"Open In Colab\"/></a>"
      ]
    },
    {
      "cell_type": "code",
      "metadata": {
        "id": "UgrRPDpey_Tc",
        "colab_type": "code",
        "colab": {
          "base_uri": "https://localhost:8080/",
          "height": 54
        },
        "outputId": "f39f6a50-ddf0-40bc-b680-1a6a2c3d8ba2"
      },
      "source": [
        "import os\n",
        "import datetime\n",
        "import pandas as pd\n",
        "import numpy as np\n",
        "\n",
        "import tensorflow as tf\n",
        "from tensorflow.keras.models import Sequential\n",
        "from tensorflow.keras.layers import Conv2D, MaxPool2D, Dense, Flatten, Dropout\n",
        "from tensorflow.keras.utils import to_categorical\n",
        "\n",
        "%load_ext tensorboard\n",
        "\n",
        "import matplotlib.pyplot as plt\n",
        "from skimage import color, exposure\n",
        "\n",
        "from sklearn.metrics import accuracy_score\n",
        "\n",
        "from hyperopt import hp, STATUS_OK, tpe, Trials, fmin"
      ],
      "execution_count": 13,
      "outputs": [
        {
          "output_type": "stream",
          "text": [
            "The tensorboard extension is already loaded. To reload it, use:\n",
            "  %reload_ext tensorboard\n"
          ],
          "name": "stdout"
        }
      ]
    },
    {
      "cell_type": "code",
      "metadata": {
        "id": "lVObW7txzR-Z",
        "colab_type": "code",
        "colab": {
          "base_uri": "https://localhost:8080/",
          "height": 35
        },
        "outputId": "bcdfe9df-371d-4435-8c7a-d64be23ad5e0"
      },
      "source": [
        "cd '/content/drive/My Drive/Colab Notebooks/matrix/matrix_three/dw_matrix_road_sign'"
      ],
      "execution_count": 3,
      "outputs": [
        {
          "output_type": "stream",
          "text": [
            "/content/drive/My Drive/Colab Notebooks/matrix/matrix_three/dw_matrix_road_sign\n"
          ],
          "name": "stdout"
        }
      ]
    },
    {
      "cell_type": "code",
      "metadata": {
        "id": "5lLJFsS3ziCH",
        "colab_type": "code",
        "colab": {}
      },
      "source": [
        "df = pd.read_csv('data/signnames.csv')\n",
        "labels_dict = df.to_dict()['b']"
      ],
      "execution_count": 0,
      "outputs": []
    },
    {
      "cell_type": "code",
      "metadata": {
        "id": "482umprEzj-r",
        "colab_type": "code",
        "colab": {}
      },
      "source": [
        "train = pd.read_pickle('data/train.p')\n",
        "test = pd.read_pickle('data/test.p')\n",
        "\n",
        "X_train, y_train = train['features'], train['labels']\n",
        "X_test, y_test = test['features'], test['labels']"
      ],
      "execution_count": 0,
      "outputs": []
    },
    {
      "cell_type": "code",
      "metadata": {
        "id": "piewRl6fzlxy",
        "colab_type": "code",
        "colab": {}
      },
      "source": [
        "if y_train.ndim == 1: y_train = to_categorical(y_train)\n",
        "if y_test.ndim == 1: y_test = to_categorical(y_test)\n",
        "\n",
        "input_shape = X_train.shape[1:]\n",
        "num_classes = y_train.shape[1]"
      ],
      "execution_count": 0,
      "outputs": []
    },
    {
      "cell_type": "code",
      "metadata": {
        "id": "kF0yP_ZSzr5Z",
        "colab_type": "code",
        "colab": {}
      },
      "source": [
        "def train_model(model, X_train, y_train, params_fit={}):\n",
        "  model.compile(loss='categorical_crossentropy', optimizer='Adam', metrics=['accuracy'])\n",
        "\n",
        "  logdir = os.path.join('logs', datetime.datetime.now().strftime(\"%Y%m%d-%H%M%S\"))\n",
        "  tensorboard_callback = tf.keras.callbacks.TensorBoard(logdir, histogram_freq=1)\n",
        "\n",
        "  model.fit(\n",
        "      X_train, \n",
        "      y_train,\n",
        "      batch_size=params_fit.get('batch_size', 128),\n",
        "      epochs=params_fit.get('epochs', 5),\n",
        "      verbose=params_fit.get('verbose', 1),\n",
        "      validation_data=params_fit.get('validation_data', (X_train, y_train)),\n",
        "      callbacks=[tensorboard_callback]\n",
        "    )\n",
        "  \n",
        "  return model\n",
        "\n",
        "def predict(model_trained, X_test, y_test, scoring=accuracy_score):\n",
        "\n",
        "  y_test_norm = np.argmax(y_test, axis=1)\n",
        "\n",
        "  y_pred_prob = model_trained.predict(X_test)\n",
        "  y_pred = np.argmax(y_pred_prob, axis=1)\n",
        "\n",
        "  return scoring(y_test_norm, y_pred)\n",
        "\n",
        "def train_and_predict(model):\n",
        "  model_trained = train_model(model, X_train, y_train)\n",
        "  return predict(model_trained, X_test, y_test)"
      ],
      "execution_count": 0,
      "outputs": []
    },
    {
      "cell_type": "code",
      "metadata": {
        "id": "uw_hELuqz6ZJ",
        "colab_type": "code",
        "colab": {
          "base_uri": "https://localhost:8080/",
          "height": 239
        },
        "outputId": "9ccd6cc6-f65b-49a2-d912-a4be490eb309"
      },
      "source": [
        "def get_cnn_v5(input_shape, num_classes):\n",
        "  return Sequential([\n",
        "    Conv2D(filters=32, kernel_size=(3,3), activation='relu', input_shape=input_shape),\n",
        "    Conv2D(filters=32, kernel_size=(3,3), activation='relu', padding='same'),\n",
        "    MaxPool2D(),\n",
        "    Dropout(0.3),\n",
        "\n",
        "    Conv2D(filters=64, kernel_size=(3,3), activation='relu', padding='same'),\n",
        "    Conv2D(filters=64, kernel_size=(3,3), activation='relu'),\n",
        "    MaxPool2D(),\n",
        "    Dropout(0.3),\n",
        "\n",
        "    Conv2D(filters=128, kernel_size=(3,3), activation='relu', padding='same'),\n",
        "    Conv2D(filters=128, kernel_size=(3,3), activation='relu'),\n",
        "    MaxPool2D(),\n",
        "    Dropout(0.3),\n",
        "\n",
        "    Flatten(),\n",
        "\n",
        "    Dense(1024, activation='relu'),\n",
        "    Dropout(0.3),\n",
        "\n",
        "    Dense(1024, activation='relu'),\n",
        "    Dropout(0.3),\n",
        "\n",
        "    Dense(num_classes, activation='softmax'),\n",
        "  ])\n",
        "\n",
        "train_and_predict(get_cnn_v5(input_shape, num_classes))"
      ],
      "execution_count": 10,
      "outputs": [
        {
          "output_type": "stream",
          "text": [
            "Epoch 1/5\n",
            "272/272 [==============================] - 5s 20ms/step - loss: 2.6104 - accuracy: 0.2851 - val_loss: 1.2736 - val_accuracy: 0.6136\n",
            "Epoch 2/5\n",
            "272/272 [==============================] - 5s 18ms/step - loss: 0.9343 - accuracy: 0.7019 - val_loss: 0.2402 - val_accuracy: 0.9244\n",
            "Epoch 3/5\n",
            "272/272 [==============================] - 5s 18ms/step - loss: 0.4172 - accuracy: 0.8709 - val_loss: 0.1046 - val_accuracy: 0.9679\n",
            "Epoch 4/5\n",
            "272/272 [==============================] - 5s 18ms/step - loss: 0.2637 - accuracy: 0.9187 - val_loss: 0.0549 - val_accuracy: 0.9846\n",
            "Epoch 5/5\n",
            "272/272 [==============================] - 5s 18ms/step - loss: 0.1945 - accuracy: 0.9420 - val_loss: 0.0358 - val_accuracy: 0.9894\n"
          ],
          "name": "stdout"
        },
        {
          "output_type": "execute_result",
          "data": {
            "text/plain": [
              "0.9757369614512472"
            ]
          },
          "metadata": {
            "tags": []
          },
          "execution_count": 10
        }
      ]
    },
    {
      "cell_type": "code",
      "metadata": {
        "id": "XgHxwZBO0IPj",
        "colab_type": "code",
        "colab": {}
      },
      "source": [
        ""
      ],
      "execution_count": 0,
      "outputs": []
    },
    {
      "cell_type": "code",
      "metadata": {
        "id": "2_0bInz-2knL",
        "colab_type": "code",
        "colab": {}
      },
      "source": [
        "def get_model(params):\n",
        "  return Sequential([\n",
        "    Conv2D(filters=32, kernel_size=(3,3), activation='relu', input_shape=input_shape),\n",
        "    Conv2D(filters=32, kernel_size=(3,3), activation='relu', padding='same'),\n",
        "    MaxPool2D(),\n",
        "    Dropout(params['dropout_cnn_block_1']),\n",
        "\n",
        "    Conv2D(filters=64, kernel_size=(3,3), activation='relu', padding='same'),\n",
        "    Conv2D(filters=64, kernel_size=(3,3), activation='relu'),\n",
        "    MaxPool2D(),\n",
        "    Dropout(params['dropout_cnn_block_2']),\n",
        "\n",
        "    Conv2D(filters=128, kernel_size=(3,3), activation='relu', padding='same'),\n",
        "    Conv2D(filters=128, kernel_size=(3,3), activation='relu'),\n",
        "    MaxPool2D(),\n",
        "    Dropout(params['dropout_cnn_block_3']),\n",
        "\n",
        "    Flatten(),\n",
        "\n",
        "    Dense(1024, activation='relu'),\n",
        "    Dropout(params['dropout_dense_block_1']),\n",
        "\n",
        "    Dense(1024, activation='relu'),\n",
        "    Dropout(params['dropout_dense_block_2']),\n",
        "\n",
        "    Dense(num_classes, activation='softmax'),\n",
        "  ])"
      ],
      "execution_count": 0,
      "outputs": []
    },
    {
      "cell_type": "code",
      "metadata": {
        "id": "EMMp2saM0UuZ",
        "colab_type": "code",
        "colab": {}
      },
      "source": [
        "def func_obj(params):\n",
        "  model = get_model(params)\n",
        "  model.compile(loss='categorical_crossentropy', optimizer='Adam', metrics=['accuracy'])\n",
        "\n",
        "  model.fit(\n",
        "      X_train, \n",
        "      y_train,\n",
        "      batch_size=int(params.get('batch_size', 128)),\n",
        "      epochs=params.get('epochs', 5),\n",
        "      verbose=0,\n",
        "    )\n",
        "  \n",
        "  score = model.evaluate(X_test, y_test, verbose=0)\n",
        "  accuracy = score[1]\n",
        "  print(params, 'accuracy={}'.format(accuracy))\n",
        "\n",
        "  return {'loss': -accuracy, 'status': STATUS_OK, 'model': model}"
      ],
      "execution_count": 0,
      "outputs": []
    },
    {
      "cell_type": "markdown",
      "metadata": {
        "id": "YAri31sb6cLm",
        "colab_type": "text"
      },
      "source": [
        ""
      ]
    },
    {
      "cell_type": "code",
      "metadata": {
        "id": "0S12GkIG1dgT",
        "colab_type": "code",
        "colab": {
          "base_uri": "https://localhost:8080/",
          "height": 1000
        },
        "outputId": "faaa6057-6ba1-49a6-9de0-557627269aea"
      },
      "source": [
        "space = {\n",
        "    'batch_size': hp.quniform('batch_size', 100, 200, 10),\n",
        "    'dropout_cnn_block_1': hp.uniform('dropout_cnn_block_1', 0.3, 0.5),\n",
        "    'dropout_cnn_block_2': hp.uniform('dropout_cnn_block_2', 0.3, 0.5),\n",
        "    'dropout_cnn_block_3': hp.uniform('dropout_cnn_block_3', 0.3, 0.5),\n",
        "    'dropout_dense_block_1': hp.uniform('dropout_dense_block_1', 0.3, 0.7),\n",
        "    'dropout_dense_block_2': hp.uniform('dropout_dense_block_2', 0.3, 0.7),\n",
        "}\n",
        "\n",
        "best = fmin(\n",
        "    func_obj,\n",
        "    space,\n",
        "    tpe.suggest,\n",
        "    30,\n",
        "    Trials()\n",
        ")"
      ],
      "execution_count": 30,
      "outputs": [
        {
          "output_type": "stream",
          "text": [
            "{'batch_size': 110.0, 'dropout_cnn_block_1': 0.3238520222092685, 'dropout_cnn_block_2': 0.4615787754597186, 'dropout_cnn_block_3': 0.49259546343780997, 'dropout_dense_block_1': 0.4788210239528277, 'dropout_dense_block_2': 0.6572435460356422}\n",
            "accuracy=0.9383220076560974\n",
            "{'batch_size': 160.0, 'dropout_cnn_block_1': 0.34003972177592284, 'dropout_cnn_block_2': 0.46902541183361984, 'dropout_cnn_block_3': 0.3329380952234464, 'dropout_dense_block_1': 0.5412839503089455, 'dropout_dense_block_2': 0.5986143613121411}\n",
            "accuracy=0.9358276724815369\n",
            "{'batch_size': 160.0, 'dropout_cnn_block_1': 0.30336475836485316, 'dropout_cnn_block_2': 0.458256748276903, 'dropout_cnn_block_3': 0.41877392852994616, 'dropout_dense_block_1': 0.4049278700570215, 'dropout_dense_block_2': 0.47163052179922194}\n",
            "accuracy=0.9433106780052185\n",
            "{'batch_size': 140.0, 'dropout_cnn_block_1': 0.3546176409946763, 'dropout_cnn_block_2': 0.37997691789848154, 'dropout_cnn_block_3': 0.40956268531667894, 'dropout_dense_block_1': 0.3518528661237444, 'dropout_dense_block_2': 0.3960460124530738}\n",
            "accuracy=0.9639455676078796\n",
            "{'batch_size': 120.0, 'dropout_cnn_block_1': 0.4596568144832788, 'dropout_cnn_block_2': 0.31303401394230346, 'dropout_cnn_block_3': 0.38316631541397, 'dropout_dense_block_1': 0.678689256380232, 'dropout_dense_block_2': 0.3411070069026344}\n",
            "accuracy=0.9346938729286194\n",
            "{'batch_size': 200.0, 'dropout_cnn_block_1': 0.3322312828021991, 'dropout_cnn_block_2': 0.33894004863271293, 'dropout_cnn_block_3': 0.3930975998708112, 'dropout_dense_block_1': 0.44105816879219056, 'dropout_dense_block_2': 0.32410817099062716}\n",
            "accuracy=0.9639455676078796\n",
            "{'batch_size': 140.0, 'dropout_cnn_block_1': 0.36000785115169376, 'dropout_cnn_block_2': 0.3656523348803732, 'dropout_cnn_block_3': 0.42538969491473916, 'dropout_dense_block_1': 0.6134847003280757, 'dropout_dense_block_2': 0.3423299592972915}\n",
            "accuracy=0.9267573952674866\n",
            "{'batch_size': 120.0, 'dropout_cnn_block_1': 0.4312145182723034, 'dropout_cnn_block_2': 0.37516916755736524, 'dropout_cnn_block_3': 0.354837048621395, 'dropout_dense_block_1': 0.5700397824082866, 'dropout_dense_block_2': 0.4926575846873099}\n",
            "accuracy=0.9185941219329834\n",
            "{'batch_size': 180.0, 'dropout_cnn_block_1': 0.40640728268298604, 'dropout_cnn_block_2': 0.38395753568777036, 'dropout_cnn_block_3': 0.48909512765563967, 'dropout_dense_block_1': 0.6646609867324531, 'dropout_dense_block_2': 0.5896589193193357}\n",
            "accuracy=0.714739203453064\n",
            "{'batch_size': 180.0, 'dropout_cnn_block_1': 0.43443002320816526, 'dropout_cnn_block_2': 0.3543788712795264, 'dropout_cnn_block_3': 0.3041906868017567, 'dropout_dense_block_1': 0.5434386691857829, 'dropout_dense_block_2': 0.5580590227706639}\n",
            "accuracy=0.9453514814376831\n",
            "{'batch_size': 120.0, 'dropout_cnn_block_1': 0.335780174782599, 'dropout_cnn_block_2': 0.359492601349634, 'dropout_cnn_block_3': 0.4505441868113439, 'dropout_dense_block_1': 0.3218546069461945, 'dropout_dense_block_2': 0.3460865806878739}\n",
            "accuracy=0.9655328989028931\n",
            "{'batch_size': 150.0, 'dropout_cnn_block_1': 0.49080249242000984, 'dropout_cnn_block_2': 0.31476160368125833, 'dropout_cnn_block_3': 0.4104137257288863, 'dropout_dense_block_1': 0.47622831513130603, 'dropout_dense_block_2': 0.47959411090569104}\n",
            "accuracy=0.9346938729286194\n",
            "{'batch_size': 140.0, 'dropout_cnn_block_1': 0.40265196071874415, 'dropout_cnn_block_2': 0.33361321171277536, 'dropout_cnn_block_3': 0.4057177188608764, 'dropout_dense_block_1': 0.5843400286454679, 'dropout_dense_block_2': 0.46260056359198287}\n",
            "accuracy=0.9333333373069763\n",
            "{'batch_size': 130.0, 'dropout_cnn_block_1': 0.33270826400982006, 'dropout_cnn_block_2': 0.46790608176959114, 'dropout_cnn_block_3': 0.3302431841589285, 'dropout_dense_block_1': 0.31152253320569684, 'dropout_dense_block_2': 0.3722434197141331}\n",
            "accuracy=0.9571428298950195\n",
            "{'batch_size': 160.0, 'dropout_cnn_block_1': 0.32390534209371613, 'dropout_cnn_block_2': 0.4579435118024885, 'dropout_cnn_block_3': 0.32153859742080443, 'dropout_dense_block_1': 0.46787774858598447, 'dropout_dense_block_2': 0.5027279676055223}\n",
            "accuracy=0.9575963616371155\n",
            "{'batch_size': 110.0, 'dropout_cnn_block_1': 0.4174668048105844, 'dropout_cnn_block_2': 0.4620879565774643, 'dropout_cnn_block_3': 0.36798365907164143, 'dropout_dense_block_1': 0.4432850122262144, 'dropout_dense_block_2': 0.6245751036132849}\n",
            "accuracy=0.9328798055648804\n",
            "{'batch_size': 130.0, 'dropout_cnn_block_1': 0.4411122425887459, 'dropout_cnn_block_2': 0.3216932152878684, 'dropout_cnn_block_3': 0.3837443096217699, 'dropout_dense_block_1': 0.6324895999824867, 'dropout_dense_block_2': 0.3650137543194484}\n",
            "accuracy=0.9541950225830078\n",
            "{'batch_size': 150.0, 'dropout_cnn_block_1': 0.49133500904576394, 'dropout_cnn_block_2': 0.45488455675093786, 'dropout_cnn_block_3': 0.36548460189615073, 'dropout_dense_block_1': 0.5875734650868383, 'dropout_dense_block_2': 0.522523173031036}\n",
            "accuracy=0.8852607607841492\n",
            "{'batch_size': 170.0, 'dropout_cnn_block_1': 0.3435932154430233, 'dropout_cnn_block_2': 0.3164165667819044, 'dropout_cnn_block_3': 0.38590846970042025, 'dropout_dense_block_1': 0.49060144782033677, 'dropout_dense_block_2': 0.33982475761745995}\n",
            "accuracy=0.9365079402923584\n",
            "{'batch_size': 160.0, 'dropout_cnn_block_1': 0.3849521444128305, 'dropout_cnn_block_2': 0.44990191055161244, 'dropout_cnn_block_3': 0.3743633103634808, 'dropout_dense_block_1': 0.5998398618071269, 'dropout_dense_block_2': 0.3402919504914066}\n",
            "accuracy=0.974829912185669\n",
            "{'batch_size': 190.0, 'dropout_cnn_block_1': 0.37569283227045425, 'dropout_cnn_block_2': 0.42349996121438144, 'dropout_cnn_block_3': 0.4558925484068731, 'dropout_dense_block_1': 0.302792463699689, 'dropout_dense_block_2': 0.4024838204540489}\n",
            "accuracy=0.8907029628753662\n",
            "{'batch_size': 100.0, 'dropout_cnn_block_1': 0.38145424436670267, 'dropout_cnn_block_2': 0.4906932132508785, 'dropout_cnn_block_3': 0.4428190264202055, 'dropout_dense_block_1': 0.36554988999457594, 'dropout_dense_block_2': 0.30229816310568314}\n",
            "accuracy=0.9387755393981934\n",
            "{'batch_size': 170.0, 'dropout_cnn_block_1': 0.37996810588398755, 'dropout_cnn_block_2': 0.4130335902723026, 'dropout_cnn_block_3': 0.4565388154359781, 'dropout_dense_block_1': 0.5233964238187867, 'dropout_dense_block_2': 0.42643938278037574}\n",
            "accuracy=0.9591836929321289\n",
            "{'batch_size': 130.0, 'dropout_cnn_block_1': 0.3053098048098168, 'dropout_cnn_block_2': 0.432275138724597, 'dropout_cnn_block_3': 0.4790170240655057, 'dropout_dense_block_1': 0.622573151522545, 'dropout_dense_block_2': 0.30678246867060704}\n",
            "accuracy=0.9374149441719055\n",
            "{'batch_size': 100.0, 'dropout_cnn_block_1': 0.36513625283421014, 'dropout_cnn_block_2': 0.3985302065447967, 'dropout_cnn_block_3': 0.4407186284516869, 'dropout_dense_block_1': 0.6528961115569187, 'dropout_dense_block_2': 0.41227263744286596}\n",
            "accuracy=0.88117915391922\n",
            "{'batch_size': 120.0, 'dropout_cnn_block_1': 0.3912825408616816, 'dropout_cnn_block_2': 0.4898769530109147, 'dropout_cnn_block_3': 0.4721384443861948, 'dropout_dense_block_1': 0.380123781440252, 'dropout_dense_block_2': 0.44476016623138975}\n",
            "accuracy=0.9371882081031799\n",
            "{'batch_size': 170.0, 'dropout_cnn_block_1': 0.3154379275969699, 'dropout_cnn_block_2': 0.40506299358836273, 'dropout_cnn_block_3': 0.43087005957808, 'dropout_dense_block_1': 0.410137097911723, 'dropout_dense_block_2': 0.3722625021399437}\n",
            "accuracy=0.963718831539154\n",
            "{'batch_size': 150.0, 'dropout_cnn_block_1': 0.465046925284464, 'dropout_cnn_block_2': 0.43763699038563214, 'dropout_cnn_block_3': 0.34910594992359145, 'dropout_dense_block_1': 0.695183041027238, 'dropout_dense_block_2': 0.3045102930153502}\n",
            "accuracy=0.9120181202888489\n",
            "{'batch_size': 110.0, 'dropout_cnn_block_1': 0.3504050153384476, 'dropout_cnn_block_2': 0.3513448080715476, 'dropout_cnn_block_3': 0.3002410926281698, 'dropout_dense_block_1': 0.5050513131680482, 'dropout_dense_block_2': 0.44456247798614257}\n",
            "accuracy=0.9675737023353577\n",
            "{'batch_size': 200.0, 'dropout_cnn_block_1': 0.41930095615402674, 'dropout_cnn_block_2': 0.3921356169975614, 'dropout_cnn_block_3': 0.30475677761796216, 'dropout_dense_block_1': 0.5100727259606137, 'dropout_dense_block_2': 0.5235746894717259}\n",
            "accuracy=0.9253968000411987\n",
            "100%|██████████| 30/30 [07:49<00:00, 15.65s/it, best loss: -0.974829912185669]\n"
          ],
          "name": "stdout"
        }
      ]
    },
    {
      "cell_type": "code",
      "metadata": {
        "id": "4GGovmXz134W",
        "colab_type": "code",
        "colab": {}
      },
      "source": [
        ""
      ],
      "execution_count": 0,
      "outputs": []
    }
  ]
}